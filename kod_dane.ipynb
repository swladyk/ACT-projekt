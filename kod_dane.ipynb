{
 "cells": [
  {
   "cell_type": "code",
   "execution_count": 1,
   "id": "d54bc954",
   "metadata": {},
   "outputs": [],
   "source": [
    "from ucimlrepo import fetch_ucirepo "
   ]
  },
  {
   "cell_type": "code",
   "execution_count": 2,
   "id": "1f44ab46",
   "metadata": {},
   "outputs": [],
   "source": [
    "# fetch dataset \n",
    "aids_clinical_trials_group_study_175 = fetch_ucirepo(id=890) \n",
    "  \n",
    "# data (as pandas dataframes) \n",
    "X = aids_clinical_trials_group_study_175.data.features \n",
    "y = aids_clinical_trials_group_study_175.data.targets "
   ]
  },
  {
   "cell_type": "code",
   "execution_count": 3,
   "id": "6eabbd12",
   "metadata": {},
   "outputs": [
    {
     "name": "stdout",
     "output_type": "stream",
     "text": [
      "Data saved to aids_clinical_trials_data.csv\n"
     ]
    }
   ],
   "source": [
    "# Combine features and targets into one DataFrame\n",
    "import pandas as pd\n",
    "\n",
    "data_combined = pd.concat([X, y], axis=1)\n",
    "\n",
    "# Save the combined DataFrame to a CSV file\n",
    "data_combined.to_csv(\"aids_clinical_trials_data.csv\", index=False)\n",
    "\n",
    "print(\"Data saved to aids_clinical_trials_data.csv\")"
   ]
  },
  {
   "cell_type": "code",
   "execution_count": 4,
   "id": "28c41d3e",
   "metadata": {},
   "outputs": [
    {
     "name": "stdout",
     "output_type": "stream",
     "text": [
      "   time  trt  age     wtkg  hemo  homo  drugs  karnof  oprior  z30  ...  \\\n",
      "0   948    2   48  89.8128     0     0      0     100       0    0  ...   \n",
      "1  1002    3   61  49.4424     0     0      0      90       0    1  ...   \n",
      "2   961    3   45  88.4520     0     1      1      90       0    1  ...   \n",
      "3  1166    3   47  85.2768     0     1      0     100       0    1  ...   \n",
      "4  1090    0   43  66.6792     0     1      0     100       0    1  ...   \n",
      "\n",
      "   gender  str2  strat  symptom  treat  offtrt  cd40  cd420  cd80  cd820  \n",
      "0       0     0      1        0      1       0   422    477   566    324  \n",
      "1       0     1      3        0      1       0   162    218   392    564  \n",
      "2       1     1      3        0      1       1   326    274  2063   1893  \n",
      "3       1     1      3        0      1       0   287    394  1590    966  \n",
      "4       1     1      3        0      0       0   504    353   870    782  \n",
      "\n",
      "[5 rows x 23 columns]\n"
     ]
    }
   ],
   "source": [
    "print(X.head())"
   ]
  },
  {
   "cell_type": "code",
   "execution_count": 7,
   "id": "79bf5346",
   "metadata": {},
   "outputs": [
    {
     "name": "stdout",
     "output_type": "stream",
     "text": [
      "   cid\n",
      "0    0\n",
      "1    1\n",
      "2    0\n",
      "3    0\n",
      "4    0\n"
     ]
    }
   ],
   "source": [
    "print(y.head())"
   ]
  },
  {
   "cell_type": "code",
   "execution_count": 6,
   "id": "a0510ad2",
   "metadata": {},
   "outputs": [
    {
     "name": "stdout",
     "output_type": "stream",
     "text": [
      "       name     role        type         demographic  \\\n",
      "0    pidnum       ID     Integer                None   \n",
      "1       cid   Target      Binary                None   \n",
      "2      time  Feature     Integer                None   \n",
      "3       trt  Feature     Integer                None   \n",
      "4       age  Feature     Integer                 Age   \n",
      "5      wtkg  Feature  Continuous                None   \n",
      "6      hemo  Feature      Binary                None   \n",
      "7      homo  Feature      Binary  Sexual Orientation   \n",
      "8     drugs  Feature      Binary                None   \n",
      "9    karnof  Feature     Integer                None   \n",
      "10   oprior  Feature      Binary                None   \n",
      "11      z30  Feature      Binary                None   \n",
      "12   zprior  Feature      Binary                None   \n",
      "13  preanti  Feature     Integer                None   \n",
      "14     race  Feature     Integer                Race   \n",
      "15   gender  Feature      Binary              Gender   \n",
      "16     str2  Feature      Binary                None   \n",
      "17    strat  Feature     Integer                None   \n",
      "18  symptom  Feature      Binary                None   \n",
      "19    treat  Feature      Binary                None   \n",
      "20   offtrt  Feature      Binary                None   \n",
      "21     cd40  Feature     Integer                None   \n",
      "22    cd420  Feature     Integer                None   \n",
      "23     cd80  Feature     Integer                None   \n",
      "24    cd820  Feature     Integer                None   \n",
      "\n",
      "                                          description units missing_values  \n",
      "0                                          Patient ID  None             no  \n",
      "1    censoring indicator (1 = failure, 0 = censoring)  None             no  \n",
      "2                        time to failure or censoring  None             no  \n",
      "3   treatment indicator (0 = ZDV only; 1 = ZDV + d...  None             no  \n",
      "4                               age (yrs) at baseline  None             no  \n",
      "5                             weight (kg) at baseline  None             no  \n",
      "6                            hemophilia (0=no, 1=yes)  None             no  \n",
      "7                   homosexual activity (0=no, 1=yes)  None             no  \n",
      "8                history of IV drug use (0=no, 1=yes)  None             no  \n",
      "9               Karnofsky score (on a scale of 0-100)  None             no  \n",
      "10  Non-ZDV antiretroviral therapy pre-175 (0=no, ...  None             no  \n",
      "11      ZDV in the 30 days prior to 175 (0=no, 1=yes)  None             no  \n",
      "12                     ZDV prior to 175 (0=no, 1=yes)  None             no  \n",
      "13             # days pre-175 anti-retroviral therapy  None             no  \n",
      "14                        race (0=White, 1=non-white)  None             no  \n",
      "15                                  gender (0=F, 1=M)  None             no  \n",
      "16    antiretroviral history (0=naive, 1=experienced)  None             no  \n",
      "17  antiretroviral history stratification (1='Anti...  None             no  \n",
      "18            symptomatic indicator (0=asymp, 1=symp)  None             no  \n",
      "19         treatment indicator (0=ZDV only, 1=others)  None             no  \n",
      "20  indicator of off-trt before 96+/-5 weeks (0=no...  None             no  \n",
      "21                                    CD4 at baseline  None             no  \n",
      "22                                CD4 at 20+/-5 weeks  None             no  \n",
      "23                                    CD8 at baseline  None             no  \n",
      "24                                CD8 at 20+/-5 weeks  None             no  \n"
     ]
    }
   ],
   "source": [
    "# variable information \n",
    "print(aids_clinical_trials_group_study_175.variables) "
   ]
  }
 ],
 "metadata": {
  "kernelspec": {
   "display_name": "Python 3",
   "language": "python",
   "name": "python3"
  },
  "language_info": {
   "codemirror_mode": {
    "name": "ipython",
    "version": 3
   },
   "file_extension": ".py",
   "mimetype": "text/x-python",
   "name": "python",
   "nbconvert_exporter": "python",
   "pygments_lexer": "ipython3",
   "version": "3.13.2"
  }
 },
 "nbformat": 4,
 "nbformat_minor": 5
}
