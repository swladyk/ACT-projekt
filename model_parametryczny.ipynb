{
 "cells": [
  {
   "cell_type": "markdown",
   "id": "5b024dfd",
   "metadata": {},
   "source": [
    "Instalacja potrzebnych pakietów"
   ]
  },
  {
   "cell_type": "code",
   "execution_count": 6,
   "id": "c9640e23",
   "metadata": {},
   "outputs": [],
   "source": [
    "#!pip install lifelines"
   ]
  },
  {
   "cell_type": "code",
   "execution_count": 1,
   "id": "d54bc954",
   "metadata": {},
   "outputs": [],
   "source": [
    "import pandas as pd"
   ]
  },
  {
   "cell_type": "markdown",
   "id": "8012c59e",
   "metadata": {},
   "source": [
    "Wczytanie danych z pliku aids_data.csv"
   ]
  },
  {
   "cell_type": "code",
   "execution_count": 36,
   "id": "1f44ab46",
   "metadata": {},
   "outputs": [],
   "source": [
    "# read dataset from aids_data.csv\n",
    "df = pd.read_csv('aids_data.csv', sep=';')\n",
    "\n",
    "# data (as pandas dataframes)\n",
    "X = df.iloc[:, :-1]  # all columns except the last as features\n",
    "y = df.iloc[:, -1]   # the last column as targets"
   ]
  },
  {
   "cell_type": "markdown",
   "id": "78eef63c",
   "metadata": {},
   "source": [
    "KOD 1 \n"
   ]
  },
  {
   "cell_type": "code",
   "execution_count": 13,
   "id": "ade1f50c",
   "metadata": {},
   "outputs": [],
   "source": [
    "import pandas as pd\n",
    "from lifelines import WeibullAFTFitter\n",
    "import matplotlib.pyplot as plt"
   ]
  },
  {
   "cell_type": "code",
   "execution_count": 14,
   "id": "33bcd44b",
   "metadata": {},
   "outputs": [
    {
     "name": "stdout",
     "output_type": "stream",
     "text": [
      "Index(['time', 'trt', 'age', 'wtkg', 'hemo', 'homo', 'drugs', 'karnof',\n",
      "       'oprior', 'z30', 'zprior', 'preanti', 'race', 'gender', 'str2', 'strat',\n",
      "       'symptom', 'treat', 'offtrt', 'cd40', 'cd420', 'cd80', 'cd820', 'cid'],\n",
      "      dtype='object')\n"
     ]
    }
   ],
   "source": [
    "print(df.columns)"
   ]
  },
  {
   "cell_type": "code",
   "execution_count": 37,
   "id": "b8a0c490",
   "metadata": {},
   "outputs": [],
   "source": [
    "# Przygotowanie danych — zachowanie wymaganych kolumn\n",
    "df = df.dropna(subset=[\"trt\", \"hemo\", \"cd40\", \"age\", \"karnof\", \"gender\", \"homo\", \"drugs\"])"
   ]
  },
  {
   "cell_type": "code",
   "execution_count": 25,
   "id": "a82af124",
   "metadata": {},
   "outputs": [
    {
     "data": {
      "text/plain": [
       "<lifelines.WeibullAFTFitter: fitted with 2139 total observations, 1618 right-censored observations>"
      ]
     },
     "execution_count": 25,
     "metadata": {},
     "output_type": "execute_result"
    }
   ],
   "source": [
    "# Dopasowanie modelu Weibulla\n",
    "variables = ['trt', 'hemo', 'cd40', 'age', 'karnof', 'gender', 'homo', 'drugs']\n",
    "\n",
    "# Dopasowanie modelu Weibull AFT\n",
    "aft = WeibullAFTFitter()\n",
    "aft.fit(df[variables + ['time', 'cid']], duration_col='time', event_col='cid')\n"
   ]
  },
  {
   "cell_type": "code",
   "execution_count": 26,
   "id": "f3905c20",
   "metadata": {},
   "outputs": [
    {
     "data": {
      "text/html": [
       "<div>\n",
       "<style scoped>\n",
       "    .dataframe tbody tr th:only-of-type {\n",
       "        vertical-align: middle;\n",
       "    }\n",
       "\n",
       "    .dataframe tbody tr th {\n",
       "        vertical-align: top;\n",
       "    }\n",
       "\n",
       "    .dataframe thead th {\n",
       "        text-align: right;\n",
       "    }\n",
       "</style>\n",
       "<table border=\"1\" class=\"dataframe\">\n",
       "  <tbody>\n",
       "    <tr>\n",
       "      <th>model</th>\n",
       "      <td>lifelines.WeibullAFTFitter</td>\n",
       "    </tr>\n",
       "    <tr>\n",
       "      <th>duration col</th>\n",
       "      <td>'time'</td>\n",
       "    </tr>\n",
       "    <tr>\n",
       "      <th>event col</th>\n",
       "      <td>'cid'</td>\n",
       "    </tr>\n",
       "    <tr>\n",
       "      <th>number of observations</th>\n",
       "      <td>2139</td>\n",
       "    </tr>\n",
       "    <tr>\n",
       "      <th>number of events observed</th>\n",
       "      <td>521</td>\n",
       "    </tr>\n",
       "    <tr>\n",
       "      <th>log-likelihood</th>\n",
       "      <td>-4669.42</td>\n",
       "    </tr>\n",
       "    <tr>\n",
       "      <th>time fit was run</th>\n",
       "      <td>2025-05-06 13:00:02 UTC</td>\n",
       "    </tr>\n",
       "  </tbody>\n",
       "</table>\n",
       "</div><table border=\"1\" class=\"dataframe\">\n",
       "  <thead>\n",
       "    <tr style=\"text-align: right;\">\n",
       "      <th style=\"min-width: 12px;\"></th>\n",
       "      <th style=\"min-width: 12px;\"></th>\n",
       "      <th style=\"min-width: 12px;\">coef</th>\n",
       "      <th style=\"min-width: 12px;\">exp(coef)</th>\n",
       "      <th style=\"min-width: 12px;\">se(coef)</th>\n",
       "      <th style=\"min-width: 12px;\">coef lower 95%</th>\n",
       "      <th style=\"min-width: 12px;\">coef upper 95%</th>\n",
       "      <th style=\"min-width: 12px;\">exp(coef) lower 95%</th>\n",
       "      <th style=\"min-width: 12px;\">exp(coef) upper 95%</th>\n",
       "      <th style=\"min-width: 12px;\">cmp to</th>\n",
       "      <th style=\"min-width: 12px;\">z</th>\n",
       "      <th style=\"min-width: 12px;\">p</th>\n",
       "      <th style=\"min-width: 12px;\">-log2(p)</th>\n",
       "    </tr>\n",
       "  </thead>\n",
       "  <tbody>\n",
       "    <tr>\n",
       "      <th rowspan=\"9\" valign=\"top\">lambda_</th>\n",
       "      <th>age</th>\n",
       "      <td>-0.01</td>\n",
       "      <td>0.99</td>\n",
       "      <td>0.00</td>\n",
       "      <td>-0.01</td>\n",
       "      <td>0.00</td>\n",
       "      <td>0.99</td>\n",
       "      <td>1.00</td>\n",
       "      <td>0.00</td>\n",
       "      <td>-1.71</td>\n",
       "      <td>0.09</td>\n",
       "      <td>3.53</td>\n",
       "    </tr>\n",
       "    <tr>\n",
       "      <th>cd40</th>\n",
       "      <td>0.00</td>\n",
       "      <td>1.00</td>\n",
       "      <td>0.00</td>\n",
       "      <td>0.00</td>\n",
       "      <td>0.00</td>\n",
       "      <td>1.00</td>\n",
       "      <td>1.00</td>\n",
       "      <td>0.00</td>\n",
       "      <td>8.81</td>\n",
       "      <td>&lt;0.005</td>\n",
       "      <td>59.52</td>\n",
       "    </tr>\n",
       "    <tr>\n",
       "      <th>drugs</th>\n",
       "      <td>0.20</td>\n",
       "      <td>1.23</td>\n",
       "      <td>0.10</td>\n",
       "      <td>0.01</td>\n",
       "      <td>0.39</td>\n",
       "      <td>1.01</td>\n",
       "      <td>1.48</td>\n",
       "      <td>0.00</td>\n",
       "      <td>2.09</td>\n",
       "      <td>0.04</td>\n",
       "      <td>4.76</td>\n",
       "    </tr>\n",
       "    <tr>\n",
       "      <th>gender</th>\n",
       "      <td>-0.02</td>\n",
       "      <td>0.98</td>\n",
       "      <td>0.12</td>\n",
       "      <td>-0.25</td>\n",
       "      <td>0.20</td>\n",
       "      <td>0.78</td>\n",
       "      <td>1.22</td>\n",
       "      <td>0.00</td>\n",
       "      <td>-0.21</td>\n",
       "      <td>0.83</td>\n",
       "      <td>0.27</td>\n",
       "    </tr>\n",
       "    <tr>\n",
       "      <th>hemo</th>\n",
       "      <td>-0.05</td>\n",
       "      <td>0.95</td>\n",
       "      <td>0.13</td>\n",
       "      <td>-0.31</td>\n",
       "      <td>0.22</td>\n",
       "      <td>0.73</td>\n",
       "      <td>1.24</td>\n",
       "      <td>0.00</td>\n",
       "      <td>-0.35</td>\n",
       "      <td>0.72</td>\n",
       "      <td>0.47</td>\n",
       "    </tr>\n",
       "    <tr>\n",
       "      <th>homo</th>\n",
       "      <td>-0.06</td>\n",
       "      <td>0.94</td>\n",
       "      <td>0.10</td>\n",
       "      <td>-0.26</td>\n",
       "      <td>0.13</td>\n",
       "      <td>0.77</td>\n",
       "      <td>1.14</td>\n",
       "      <td>0.00</td>\n",
       "      <td>-0.61</td>\n",
       "      <td>0.54</td>\n",
       "      <td>0.89</td>\n",
       "    </tr>\n",
       "    <tr>\n",
       "      <th>karnof</th>\n",
       "      <td>0.02</td>\n",
       "      <td>1.02</td>\n",
       "      <td>0.00</td>\n",
       "      <td>0.01</td>\n",
       "      <td>0.03</td>\n",
       "      <td>1.01</td>\n",
       "      <td>1.03</td>\n",
       "      <td>0.00</td>\n",
       "      <td>4.49</td>\n",
       "      <td>&lt;0.005</td>\n",
       "      <td>17.07</td>\n",
       "    </tr>\n",
       "    <tr>\n",
       "      <th>trt</th>\n",
       "      <td>0.12</td>\n",
       "      <td>1.13</td>\n",
       "      <td>0.03</td>\n",
       "      <td>0.07</td>\n",
       "      <td>0.17</td>\n",
       "      <td>1.07</td>\n",
       "      <td>1.19</td>\n",
       "      <td>0.00</td>\n",
       "      <td>4.60</td>\n",
       "      <td>&lt;0.005</td>\n",
       "      <td>17.83</td>\n",
       "    </tr>\n",
       "    <tr>\n",
       "      <th>Intercept</th>\n",
       "      <td>5.03</td>\n",
       "      <td>153.68</td>\n",
       "      <td>0.46</td>\n",
       "      <td>4.13</td>\n",
       "      <td>5.94</td>\n",
       "      <td>62.43</td>\n",
       "      <td>378.29</td>\n",
       "      <td>0.00</td>\n",
       "      <td>10.96</td>\n",
       "      <td>&lt;0.005</td>\n",
       "      <td>90.37</td>\n",
       "    </tr>\n",
       "    <tr>\n",
       "      <th>rho_</th>\n",
       "      <th>Intercept</th>\n",
       "      <td>0.44</td>\n",
       "      <td>1.56</td>\n",
       "      <td>0.04</td>\n",
       "      <td>0.36</td>\n",
       "      <td>0.52</td>\n",
       "      <td>1.44</td>\n",
       "      <td>1.69</td>\n",
       "      <td>0.00</td>\n",
       "      <td>10.96</td>\n",
       "      <td>&lt;0.005</td>\n",
       "      <td>90.51</td>\n",
       "    </tr>\n",
       "  </tbody>\n",
       "</table><br><div>\n",
       "<style scoped>\n",
       "    .dataframe tbody tr th:only-of-type {\n",
       "        vertical-align: middle;\n",
       "    }\n",
       "\n",
       "    .dataframe tbody tr th {\n",
       "        vertical-align: top;\n",
       "    }\n",
       "\n",
       "    .dataframe thead th {\n",
       "        text-align: right;\n",
       "    }\n",
       "</style>\n",
       "<table border=\"1\" class=\"dataframe\">\n",
       "  <tbody>\n",
       "    <tr>\n",
       "      <th>Concordance</th>\n",
       "      <td>0.65</td>\n",
       "    </tr>\n",
       "    <tr>\n",
       "      <th>AIC</th>\n",
       "      <td>9358.83</td>\n",
       "    </tr>\n",
       "    <tr>\n",
       "      <th>log-likelihood ratio test</th>\n",
       "      <td>149.05 on 8 df</td>\n",
       "    </tr>\n",
       "    <tr>\n",
       "      <th>-log2(p) of ll-ratio test</th>\n",
       "      <td>91.39</td>\n",
       "    </tr>\n",
       "  </tbody>\n",
       "</table>\n",
       "</div>"
      ],
      "text/latex": [
       "\\begin{tabular}{llrrrrrrrrrrr}\n",
       " &  & coef & exp(coef) & se(coef) & coef lower 95% & coef upper 95% & exp(coef) lower 95% & exp(coef) upper 95% & cmp to & z & p & -log2(p) \\\\\n",
       "param & covariate &  &  &  &  &  &  &  &  &  &  &  \\\\\n",
       "\\multirow[c]{9}{*}{lambda_} & age & -0.01 & 0.99 & 0.00 & -0.01 & 0.00 & 0.99 & 1.00 & 0.00 & -1.71 & 0.09 & 3.53 \\\\\n",
       " & cd40 & 0.00 & 1.00 & 0.00 & 0.00 & 0.00 & 1.00 & 1.00 & 0.00 & 8.81 & 0.00 & 59.52 \\\\\n",
       " & drugs & 0.20 & 1.23 & 0.10 & 0.01 & 0.39 & 1.01 & 1.48 & 0.00 & 2.09 & 0.04 & 4.76 \\\\\n",
       " & gender & -0.02 & 0.98 & 0.12 & -0.25 & 0.20 & 0.78 & 1.22 & 0.00 & -0.21 & 0.83 & 0.27 \\\\\n",
       " & hemo & -0.05 & 0.95 & 0.13 & -0.31 & 0.22 & 0.73 & 1.24 & 0.00 & -0.35 & 0.72 & 0.47 \\\\\n",
       " & homo & -0.06 & 0.94 & 0.10 & -0.26 & 0.13 & 0.77 & 1.14 & 0.00 & -0.61 & 0.54 & 0.89 \\\\\n",
       " & karnof & 0.02 & 1.02 & 0.00 & 0.01 & 0.03 & 1.01 & 1.03 & 0.00 & 4.49 & 0.00 & 17.07 \\\\\n",
       " & trt & 0.12 & 1.13 & 0.03 & 0.07 & 0.17 & 1.07 & 1.19 & 0.00 & 4.60 & 0.00 & 17.83 \\\\\n",
       " & Intercept & 5.03 & 153.68 & 0.46 & 4.13 & 5.94 & 62.43 & 378.29 & 0.00 & 10.96 & 0.00 & 90.37 \\\\\n",
       "rho_ & Intercept & 0.44 & 1.56 & 0.04 & 0.36 & 0.52 & 1.44 & 1.69 & 0.00 & 10.96 & 0.00 & 90.51 \\\\\n",
       "\\end{tabular}\n"
      ],
      "text/plain": [
       "<lifelines.WeibullAFTFitter: fitted with 2139 total observations, 1618 right-censored observations>\n",
       "             duration col = 'time'\n",
       "                event col = 'cid'\n",
       "   number of observations = 2139\n",
       "number of events observed = 521\n",
       "           log-likelihood = -4669.42\n",
       "         time fit was run = 2025-05-06 13:00:02 UTC\n",
       "\n",
       "---\n",
       "                   coef exp(coef)  se(coef)  coef lower 95%  coef upper 95% exp(coef) lower 95% exp(coef) upper 95%\n",
       "param   covariate                                                                                                  \n",
       "lambda_ age       -0.01      0.99      0.00           -0.01            0.00                0.99                1.00\n",
       "        cd40       0.00      1.00      0.00            0.00            0.00                1.00                1.00\n",
       "        drugs      0.20      1.23      0.10            0.01            0.39                1.01                1.48\n",
       "        gender    -0.02      0.98      0.12           -0.25            0.20                0.78                1.22\n",
       "        hemo      -0.05      0.95      0.13           -0.31            0.22                0.73                1.24\n",
       "        homo      -0.06      0.94      0.10           -0.26            0.13                0.77                1.14\n",
       "        karnof     0.02      1.02      0.00            0.01            0.03                1.01                1.03\n",
       "        trt        0.12      1.13      0.03            0.07            0.17                1.07                1.19\n",
       "        Intercept  5.03    153.68      0.46            4.13            5.94               62.43              378.29\n",
       "rho_    Intercept  0.44      1.56      0.04            0.36            0.52                1.44                1.69\n",
       "\n",
       "                   cmp to     z      p  -log2(p)\n",
       "param   covariate                               \n",
       "lambda_ age          0.00 -1.71   0.09      3.53\n",
       "        cd40         0.00  8.81 <0.005     59.52\n",
       "        drugs        0.00  2.09   0.04      4.76\n",
       "        gender       0.00 -0.21   0.83      0.27\n",
       "        hemo         0.00 -0.35   0.72      0.47\n",
       "        homo         0.00 -0.61   0.54      0.89\n",
       "        karnof       0.00  4.49 <0.005     17.07\n",
       "        trt          0.00  4.60 <0.005     17.83\n",
       "        Intercept    0.00 10.96 <0.005     90.37\n",
       "rho_    Intercept    0.00 10.96 <0.005     90.51\n",
       "---\n",
       "Concordance = 0.65\n",
       "AIC = 9358.83\n",
       "log-likelihood ratio test = 149.05 on 8 df\n",
       "-log2(p) of ll-ratio test = 91.39"
      ]
     },
     "metadata": {},
     "output_type": "display_data"
    }
   ],
   "source": [
    "# Podsumowanie współczynników\n",
    "aft.print_summary()"
   ]
  },
  {
   "cell_type": "code",
   "execution_count": 28,
   "id": "d965b3c9",
   "metadata": {},
   "outputs": [
    {
     "data": {
      "image/png": "[encoded data removed]",
      "text/plain": [
       "<Figure size 640x480 with 1 Axes>"
      ]
     },
     "metadata": {},
     "output_type": "display_data"
    }
   ],
   "source": [
    "# Przykładowa funkcja przeżycia dla pierwszego rekordu\n",
    "surv_func = aft.predict_survival_function(df.iloc[0:1])\n",
    "surv_func.plot(title=\"Survival function - Weibull AFT model\")\n",
    "plt.xlabel(\"Time (days)\")\n",
    "plt.ylabel(\"Survival probability\")\n",
    "plt.grid(True)\n",
    "plt.show()"
   ]
  },
  {
   "cell_type": "markdown",
   "id": "a25a2f7a",
   "metadata": {},
   "source": [
    "KOD 2"
   ]
  },
  {
   "cell_type": "markdown",
   "id": "a2c13746",
   "metadata": {},
   "source": [
    "Dopasowanie różnych modeli AFT i porównanie ich wyników"
   ]
  },
  {
   "cell_type": "code",
   "execution_count": 33,
   "id": "f4750d38",
   "metadata": {},
   "outputs": [],
   "source": [
    "import pandas as pd\n",
    "import matplotlib.pyplot as plt\n",
    "from lifelines import LogNormalAFTFitter, LogLogisticAFTFitter, WeibullAFTFitter"
   ]
  },
  {
   "cell_type": "code",
   "execution_count": 38,
   "id": "ba874876",
   "metadata": {},
   "outputs": [],
   "source": [
    "# Lista zmiennych objaśniających\n",
    "variables = ['trt', 'hemo', 'cd40', 'age', 'karnof', 'gender', 'drugs', 'homo']"
   ]
  },
  {
   "cell_type": "code",
   "execution_count": 40,
   "id": "c37170f6",
   "metadata": {},
   "outputs": [],
   "source": [
    "# Przygotowanie danych (upewnij się, że kolumny istnieją!)\n",
    "data = df[variables + ['time', 'cid']]"
   ]
  },
  {
   "cell_type": "code",
   "execution_count": 41,
   "id": "2e562865",
   "metadata": {},
   "outputs": [],
   "source": [
    "# Modele do porównania\n",
    "models = {\n",
    "    \"Weibull AFT\": WeibullAFTFitter(),\n",
    "    \"Log-Logistic AFT\": LogLogisticAFTFitter(),\n",
    "    \"Log-Normal AFT\": LogNormalAFTFitter()\n",
    "}"
   ]
  },
  {
   "cell_type": "code",
   "execution_count": 42,
   "id": "681a8c1b",
   "metadata": {},
   "outputs": [],
   "source": [
    "# Lista na wyniki\n",
    "results = []\n",
    "\n",
    "for name, model in models.items():\n",
    "    model.fit(data, duration_col='time', event_col='cid')\n",
    "    results.append({\n",
    "        'Model': name,\n",
    "        'AIC': model.AIC_,\n",
    "        'Concordance': model.concordance_index_\n",
    "    })"
   ]
  },
  {
   "cell_type": "code",
   "execution_count": 43,
   "id": "15661f50",
   "metadata": {},
   "outputs": [
    {
     "name": "stdout",
     "output_type": "stream",
     "text": [
      "              Model          AIC  Concordance\n",
      "2    Log-Normal AFT  9332.818400     0.655015\n",
      "1  Log-Logistic AFT  9344.715174     0.655182\n",
      "0       Weibull AFT  9358.834023     0.654933\n"
     ]
    }
   ],
   "source": [
    "# Podsumowanie wyników\n",
    "results_df = pd.DataFrame(results).sort_values(by='AIC')\n",
    "print(results_df)"
   ]
  },
  {
   "cell_type": "code",
   "execution_count": null,
   "id": "06a1b458",
   "metadata": {},
   "outputs": [
    {
     "data": {
      "image/png": "[encoded data removed]",
      "text/plain": [
       "<Figure size 800x500 with 1 Axes>"
      ]
     },
     "metadata": {},
     "output_type": "display_data"
    }
   ],
   "source": [
    "# Wykres AIC\n",
    "plt.figure(figsize=(8, 5))\n",
    "plt.bar(results_df['Model'], results_df['AIC'], color='skyblue')\n",
    "plt.title('Porównanie modeli AFT - AIC')\n",
    "plt.ylabel('AIC')\n",
    "plt.xlabel('Model')\n",
    "plt.grid(axis='y')\n",
    "plt.tight_layout()\n",
    "plt.show()"
   ]
  },
  {
   "cell_type": "markdown",
   "id": "284637e1",
   "metadata": {},
   "source": [
    "KOD 3"
   ]
  },
  {
   "cell_type": "markdown",
   "id": "ab217e01",
   "metadata": {},
   "source": [
    "Dopasowanie modelu log-normalnego AFT"
   ]
  },
  {
   "cell_type": "code",
   "execution_count": 45,
   "id": "37e72e55",
   "metadata": {},
   "outputs": [],
   "source": [
    "import pandas as pd\n",
    "from lifelines import LogNormalAFTFitter"
   ]
  },
  {
   "cell_type": "code",
   "execution_count": 50,
   "id": "36c0c037",
   "metadata": {},
   "outputs": [],
   "source": [
    "# Wszystkie zmienne do modelu\n",
    "all_variables = ['trt', 'hemo', 'homo', 'drugs', 'gender', 'cd40', 'age', 'karnof']\n",
    "outcome_vars = ['time', 'cid']"
   ]
  },
  {
   "cell_type": "code",
   "execution_count": 51,
   "id": "050758a7",
   "metadata": {},
   "outputs": [],
   "source": [
    "# Oddzielnie: zmienne kategoryczne i liczbowe\n",
    "categorical_vars = ['trt', 'hemo', 'homo', 'drugs', 'gender']\n",
    "numeric_vars = ['cd40', 'age', 'karnof']"
   ]
  },
  {
   "cell_type": "code",
   "execution_count": 52,
   "id": "e65cf1ea",
   "metadata": {},
   "outputs": [],
   "source": [
    "# Tworzenie zmiennych typu dummy tylko dla zmiennych kategorycznych\n",
    "dummies = pd.get_dummies(df[categorical_vars], drop_first=True)"
   ]
  },
  {
   "cell_type": "code",
   "execution_count": 53,
   "id": "fcd43a4f",
   "metadata": {},
   "outputs": [],
   "source": [
    "# Składanie końcowego zbioru do modelowania\n",
    "model_data = pd.concat([dummies, df[numeric_vars + outcome_vars]], axis=1)"
   ]
  },
  {
   "cell_type": "code",
   "execution_count": 54,
   "id": "01aa761a",
   "metadata": {},
   "outputs": [
    {
     "data": {
      "text/plain": [
       "<lifelines.LogNormalAFTFitter: fitted with 2139 total observations, 1618 right-censored observations>"
      ]
     },
     "execution_count": 54,
     "metadata": {},
     "output_type": "execute_result"
    }
   ],
   "source": [
    "# Dopasowanie modelu log-normalnego AFT\n",
    "aft = LogNormalAFTFitter()\n",
    "aft.fit(model_data, duration_col='time', event_col='cid')"
   ]
  },
  {
   "cell_type": "code",
   "execution_count": 55,
   "id": "7414e832",
   "metadata": {},
   "outputs": [
    {
     "data": {
      "text/html": [
       "<div>\n",
       "<style scoped>\n",
       "    .dataframe tbody tr th:only-of-type {\n",
       "        vertical-align: middle;\n",
       "    }\n",
       "\n",
       "    .dataframe tbody tr th {\n",
       "        vertical-align: top;\n",
       "    }\n",
       "\n",
       "    .dataframe thead th {\n",
       "        text-align: right;\n",
       "    }\n",
       "</style>\n",
       "<table border=\"1\" class=\"dataframe\">\n",
       "  <tbody>\n",
       "    <tr>\n",
       "      <th>model</th>\n",
       "      <td>lifelines.LogNormalAFTFitter</td>\n",
       "    </tr>\n",
       "    <tr>\n",
       "      <th>duration col</th>\n",
       "      <td>'time'</td>\n",
       "    </tr>\n",
       "    <tr>\n",
       "      <th>event col</th>\n",
       "      <td>'cid'</td>\n",
       "    </tr>\n",
       "    <tr>\n",
       "      <th>number of observations</th>\n",
       "      <td>2139</td>\n",
       "    </tr>\n",
       "    <tr>\n",
       "      <th>number of events observed</th>\n",
       "      <td>521</td>\n",
       "    </tr>\n",
       "    <tr>\n",
       "      <th>log-likelihood</th>\n",
       "      <td>-4656.41</td>\n",
       "    </tr>\n",
       "    <tr>\n",
       "      <th>time fit was run</th>\n",
       "      <td>2025-05-06 14:06:20 UTC</td>\n",
       "    </tr>\n",
       "  </tbody>\n",
       "</table>\n",
       "</div><table border=\"1\" class=\"dataframe\">\n",
       "  <thead>\n",
       "    <tr style=\"text-align: right;\">\n",
       "      <th style=\"min-width: 12px;\"></th>\n",
       "      <th style=\"min-width: 12px;\"></th>\n",
       "      <th style=\"min-width: 12px;\">coef</th>\n",
       "      <th style=\"min-width: 12px;\">exp(coef)</th>\n",
       "      <th style=\"min-width: 12px;\">se(coef)</th>\n",
       "      <th style=\"min-width: 12px;\">coef lower 95%</th>\n",
       "      <th style=\"min-width: 12px;\">coef upper 95%</th>\n",
       "      <th style=\"min-width: 12px;\">exp(coef) lower 95%</th>\n",
       "      <th style=\"min-width: 12px;\">exp(coef) upper 95%</th>\n",
       "      <th style=\"min-width: 12px;\">cmp to</th>\n",
       "      <th style=\"min-width: 12px;\">z</th>\n",
       "      <th style=\"min-width: 12px;\">p</th>\n",
       "      <th style=\"min-width: 12px;\">-log2(p)</th>\n",
       "    </tr>\n",
       "  </thead>\n",
       "  <tbody>\n",
       "    <tr>\n",
       "      <th rowspan=\"9\" valign=\"top\">mu_</th>\n",
       "      <th>age</th>\n",
       "      <td>-0.01</td>\n",
       "      <td>0.99</td>\n",
       "      <td>0.00</td>\n",
       "      <td>-0.01</td>\n",
       "      <td>0.00</td>\n",
       "      <td>0.99</td>\n",
       "      <td>1.00</td>\n",
       "      <td>0.00</td>\n",
       "      <td>-1.90</td>\n",
       "      <td>0.06</td>\n",
       "      <td>4.12</td>\n",
       "    </tr>\n",
       "    <tr>\n",
       "      <th>cd40</th>\n",
       "      <td>0.00</td>\n",
       "      <td>1.00</td>\n",
       "      <td>0.00</td>\n",
       "      <td>0.00</td>\n",
       "      <td>0.00</td>\n",
       "      <td>1.00</td>\n",
       "      <td>1.00</td>\n",
       "      <td>0.00</td>\n",
       "      <td>9.39</td>\n",
       "      <td>&lt;0.005</td>\n",
       "      <td>67.19</td>\n",
       "    </tr>\n",
       "    <tr>\n",
       "      <th>drugs</th>\n",
       "      <td>0.19</td>\n",
       "      <td>1.21</td>\n",
       "      <td>0.10</td>\n",
       "      <td>-0.02</td>\n",
       "      <td>0.39</td>\n",
       "      <td>0.98</td>\n",
       "      <td>1.48</td>\n",
       "      <td>0.00</td>\n",
       "      <td>1.81</td>\n",
       "      <td>0.07</td>\n",
       "      <td>3.83</td>\n",
       "    </tr>\n",
       "    <tr>\n",
       "      <th>gender</th>\n",
       "      <td>-0.05</td>\n",
       "      <td>0.95</td>\n",
       "      <td>0.13</td>\n",
       "      <td>-0.30</td>\n",
       "      <td>0.20</td>\n",
       "      <td>0.74</td>\n",
       "      <td>1.22</td>\n",
       "      <td>0.00</td>\n",
       "      <td>-0.41</td>\n",
       "      <td>0.68</td>\n",
       "      <td>0.55</td>\n",
       "    </tr>\n",
       "    <tr>\n",
       "      <th>hemo</th>\n",
       "      <td>-0.03</td>\n",
       "      <td>0.97</td>\n",
       "      <td>0.15</td>\n",
       "      <td>-0.32</td>\n",
       "      <td>0.27</td>\n",
       "      <td>0.72</td>\n",
       "      <td>1.31</td>\n",
       "      <td>0.00</td>\n",
       "      <td>-0.18</td>\n",
       "      <td>0.86</td>\n",
       "      <td>0.22</td>\n",
       "    </tr>\n",
       "    <tr>\n",
       "      <th>homo</th>\n",
       "      <td>-0.07</td>\n",
       "      <td>0.94</td>\n",
       "      <td>0.11</td>\n",
       "      <td>-0.28</td>\n",
       "      <td>0.15</td>\n",
       "      <td>0.75</td>\n",
       "      <td>1.16</td>\n",
       "      <td>0.00</td>\n",
       "      <td>-0.59</td>\n",
       "      <td>0.56</td>\n",
       "      <td>0.85</td>\n",
       "    </tr>\n",
       "    <tr>\n",
       "      <th>karnof</th>\n",
       "      <td>0.02</td>\n",
       "      <td>1.02</td>\n",
       "      <td>0.01</td>\n",
       "      <td>0.01</td>\n",
       "      <td>0.03</td>\n",
       "      <td>1.01</td>\n",
       "      <td>1.03</td>\n",
       "      <td>0.00</td>\n",
       "      <td>4.47</td>\n",
       "      <td>&lt;0.005</td>\n",
       "      <td>16.97</td>\n",
       "    </tr>\n",
       "    <tr>\n",
       "      <th>trt</th>\n",
       "      <td>0.14</td>\n",
       "      <td>1.16</td>\n",
       "      <td>0.03</td>\n",
       "      <td>0.09</td>\n",
       "      <td>0.20</td>\n",
       "      <td>1.09</td>\n",
       "      <td>1.22</td>\n",
       "      <td>0.00</td>\n",
       "      <td>5.14</td>\n",
       "      <td>&lt;0.005</td>\n",
       "      <td>21.83</td>\n",
       "    </tr>\n",
       "    <tr>\n",
       "      <th>Intercept</th>\n",
       "      <td>4.57</td>\n",
       "      <td>96.89</td>\n",
       "      <td>0.54</td>\n",
       "      <td>3.52</td>\n",
       "      <td>5.63</td>\n",
       "      <td>33.72</td>\n",
       "      <td>278.38</td>\n",
       "      <td>0.00</td>\n",
       "      <td>8.49</td>\n",
       "      <td>&lt;0.005</td>\n",
       "      <td>55.47</td>\n",
       "    </tr>\n",
       "    <tr>\n",
       "      <th>sigma_</th>\n",
       "      <th>Intercept</th>\n",
       "      <td>0.09</td>\n",
       "      <td>1.10</td>\n",
       "      <td>0.04</td>\n",
       "      <td>0.02</td>\n",
       "      <td>0.16</td>\n",
       "      <td>1.02</td>\n",
       "      <td>1.18</td>\n",
       "      <td>0.00</td>\n",
       "      <td>2.65</td>\n",
       "      <td>0.01</td>\n",
       "      <td>6.96</td>\n",
       "    </tr>\n",
       "  </tbody>\n",
       "</table><br><div>\n",
       "<style scoped>\n",
       "    .dataframe tbody tr th:only-of-type {\n",
       "        vertical-align: middle;\n",
       "    }\n",
       "\n",
       "    .dataframe tbody tr th {\n",
       "        vertical-align: top;\n",
       "    }\n",
       "\n",
       "    .dataframe thead th {\n",
       "        text-align: right;\n",
       "    }\n",
       "</style>\n",
       "<table border=\"1\" class=\"dataframe\">\n",
       "  <tbody>\n",
       "    <tr>\n",
       "      <th>Concordance</th>\n",
       "      <td>0.66</td>\n",
       "    </tr>\n",
       "    <tr>\n",
       "      <th>AIC</th>\n",
       "      <td>9332.82</td>\n",
       "    </tr>\n",
       "    <tr>\n",
       "      <th>log-likelihood ratio test</th>\n",
       "      <td>159.92 on 8 df</td>\n",
       "    </tr>\n",
       "    <tr>\n",
       "      <th>-log2(p) of ll-ratio test</th>\n",
       "      <td>98.93</td>\n",
       "    </tr>\n",
       "  </tbody>\n",
       "</table>\n",
       "</div>"
      ],
      "text/latex": [
       "\\begin{tabular}{llrrrrrrrrrrr}\n",
       " &  & coef & exp(coef) & se(coef) & coef lower 95% & coef upper 95% & exp(coef) lower 95% & exp(coef) upper 95% & cmp to & z & p & -log2(p) \\\\\n",
       "param & covariate &  &  &  &  &  &  &  &  &  &  &  \\\\\n",
       "\\multirow[c]{9}{*}{mu_} & age & -0.01 & 0.99 & 0.00 & -0.01 & 0.00 & 0.99 & 1.00 & 0.00 & -1.90 & 0.06 & 4.12 \\\\\n",
       " & cd40 & 0.00 & 1.00 & 0.00 & 0.00 & 0.00 & 1.00 & 1.00 & 0.00 & 9.39 & 0.00 & 67.19 \\\\\n",
       " & drugs & 0.19 & 1.21 & 0.10 & -0.02 & 0.39 & 0.98 & 1.48 & 0.00 & 1.81 & 0.07 & 3.83 \\\\\n",
       " & gender & -0.05 & 0.95 & 0.13 & -0.30 & 0.20 & 0.74 & 1.22 & 0.00 & -0.41 & 0.68 & 0.55 \\\\\n",
       " & hemo & -0.03 & 0.97 & 0.15 & -0.32 & 0.27 & 0.72 & 1.31 & 0.00 & -0.18 & 0.86 & 0.22 \\\\\n",
       " & homo & -0.07 & 0.94 & 0.11 & -0.28 & 0.15 & 0.75 & 1.16 & 0.00 & -0.59 & 0.56 & 0.85 \\\\\n",
       " & karnof & 0.02 & 1.02 & 0.01 & 0.01 & 0.03 & 1.01 & 1.03 & 0.00 & 4.47 & 0.00 & 16.97 \\\\\n",
       " & trt & 0.14 & 1.16 & 0.03 & 0.09 & 0.20 & 1.09 & 1.22 & 0.00 & 5.14 & 0.00 & 21.83 \\\\\n",
       " & Intercept & 4.57 & 96.89 & 0.54 & 3.52 & 5.63 & 33.72 & 278.38 & 0.00 & 8.49 & 0.00 & 55.47 \\\\\n",
       "sigma_ & Intercept & 0.09 & 1.10 & 0.04 & 0.02 & 0.16 & 1.02 & 1.18 & 0.00 & 2.65 & 0.01 & 6.96 \\\\\n",
       "\\end{tabular}\n"
      ],
      "text/plain": [
       "<lifelines.LogNormalAFTFitter: fitted with 2139 total observations, 1618 right-censored observations>\n",
       "             duration col = 'time'\n",
       "                event col = 'cid'\n",
       "   number of observations = 2139\n",
       "number of events observed = 521\n",
       "           log-likelihood = -4656.41\n",
       "         time fit was run = 2025-05-06 14:06:20 UTC\n",
       "\n",
       "---\n",
       "                  coef exp(coef)  se(coef)  coef lower 95%  coef upper 95% exp(coef) lower 95% exp(coef) upper 95%\n",
       "param  covariate                                                                                                  \n",
       "mu_    age       -0.01      0.99      0.00           -0.01            0.00                0.99                1.00\n",
       "       cd40       0.00      1.00      0.00            0.00            0.00                1.00                1.00\n",
       "       drugs      0.19      1.21      0.10           -0.02            0.39                0.98                1.48\n",
       "       gender    -0.05      0.95      0.13           -0.30            0.20                0.74                1.22\n",
       "       hemo      -0.03      0.97      0.15           -0.32            0.27                0.72                1.31\n",
       "       homo      -0.07      0.94      0.11           -0.28            0.15                0.75                1.16\n",
       "       karnof     0.02      1.02      0.01            0.01            0.03                1.01                1.03\n",
       "       trt        0.14      1.16      0.03            0.09            0.20                1.09                1.22\n",
       "       Intercept  4.57     96.89      0.54            3.52            5.63               33.72              278.38\n",
       "sigma_ Intercept  0.09      1.10      0.04            0.02            0.16                1.02                1.18\n",
       "\n",
       "                  cmp to     z      p  -log2(p)\n",
       "param  covariate                               \n",
       "mu_    age          0.00 -1.90   0.06      4.12\n",
       "       cd40         0.00  9.39 <0.005     67.19\n",
       "       drugs        0.00  1.81   0.07      3.83\n",
       "       gender       0.00 -0.41   0.68      0.55\n",
       "       hemo         0.00 -0.18   0.86      0.22\n",
       "       homo         0.00 -0.59   0.56      0.85\n",
       "       karnof       0.00  4.47 <0.005     16.97\n",
       "       trt          0.00  5.14 <0.005     21.83\n",
       "       Intercept    0.00  8.49 <0.005     55.47\n",
       "sigma_ Intercept    0.00  2.65   0.01      6.96\n",
       "---\n",
       "Concordance = 0.66\n",
       "AIC = 9332.82\n",
       "log-likelihood ratio test = 159.92 on 8 df\n",
       "-log2(p) of ll-ratio test = 98.93"
      ]
     },
     "metadata": {},
     "output_type": "display_data"
    }
   ],
   "source": [
    "# Wyświetlenie wyników\n",
    "aft.print_summary()"
   ]
  },
  {
   "cell_type": "code",
   "execution_count": 56,
   "id": "37f05947",
   "metadata": {},
   "outputs": [
    {
     "name": "stdout",
     "output_type": "stream",
     "text": [
      "\n",
      "Macierz kowariancji (COVB):\n",
      "param                      mu_                                            \\\n",
      "covariate                  age          cd40         drugs        gender   \n",
      "param  covariate                                                           \n",
      "mu_    age        1.364345e-05  9.371882e-09 -2.303488e-05 -6.807622e-06   \n",
      "       cd40       9.371882e-09  8.714390e-08  4.013724e-07  3.315899e-07   \n",
      "       drugs     -2.303488e-05  4.013724e-07  1.072059e-02 -1.249917e-03   \n",
      "       gender    -6.807622e-06  3.315899e-07 -1.249917e-03  1.645086e-02   \n",
      "       hemo       8.195317e-05  4.192071e-07  2.785329e-03 -9.682479e-03   \n",
      "       homo      -2.147339e-05 -6.376604e-07  2.601078e-03 -1.023879e-02   \n",
      "       karnof     1.358205e-06 -9.441137e-08  4.876142e-05  4.704584e-06   \n",
      "       trt       -6.831974e-07  4.859622e-07 -5.398845e-05  7.501787e-05   \n",
      "       Intercept -6.116691e-04 -1.841856e-05 -5.839013e-03 -6.429222e-03   \n",
      "sigma_ Intercept -8.052238e-06  2.237270e-06  2.135840e-04 -6.210536e-05   \n",
      "\n",
      "param                                                                     \\\n",
      "covariate                 hemo          homo        karnof           trt   \n",
      "param  covariate                                                           \n",
      "mu_    age        8.195317e-05 -2.147339e-05  1.358205e-06 -6.831974e-07   \n",
      "       cd40       4.192071e-07 -6.376604e-07 -9.441137e-08  4.859622e-07   \n",
      "       drugs      2.785329e-03  2.601078e-03  4.876142e-05 -5.398845e-05   \n",
      "       gender    -9.682479e-03 -1.023879e-02  4.704584e-06  7.501787e-05   \n",
      "       hemo       2.313125e-02  1.012375e-02 -2.993851e-05 -1.420128e-04   \n",
      "       homo       1.012375e-02  1.237019e-02  1.320278e-05 -1.206307e-04   \n",
      "       karnof    -2.993851e-05  1.320278e-05  2.781681e-05  4.890576e-06   \n",
      "       trt       -1.420128e-04 -1.206307e-04  4.890576e-06  7.883179e-04   \n",
      "       Intercept -1.036855e-03 -1.137732e-03 -2.662942e-03 -1.579079e-03   \n",
      "sigma_ Intercept -6.042610e-05 -7.353008e-05  1.860866e-05  1.099198e-04   \n",
      "\n",
      "param                         sigma_  \n",
      "covariate        Intercept Intercept  \n",
      "param  covariate                      \n",
      "mu_    age       -0.000612 -0.000008  \n",
      "       cd40      -0.000018  0.000002  \n",
      "       drugs     -0.005839  0.000214  \n",
      "       gender    -0.006429 -0.000062  \n",
      "       hemo      -0.001037 -0.000060  \n",
      "       homo      -0.001138 -0.000074  \n",
      "       karnof    -0.002663  0.000019  \n",
      "       trt       -0.001579  0.000110  \n",
      "       Intercept  0.289980 -0.001042  \n",
      "sigma_ Intercept -0.001042  0.001247  \n"
     ]
    }
   ],
   "source": [
    "# Macierz kowariancji współczynników (jak COVB w SAS)\n",
    "print(\"\\nMacierz kowariancji (COVB):\")\n",
    "print(aft.variance_matrix_)"
   ]
  },
  {
   "cell_type": "markdown",
   "id": "ca1b853e",
   "metadata": {},
   "source": [
    "KOD 4 - Cenzurowanie lewo i prawostronne\n"
   ]
  },
  {
   "cell_type": "markdown",
   "id": "026333c2",
   "metadata": {},
   "source": [
    "W badaniu ACTG175 dotyczącym pacjentów z HIV występuje **prawostronne cenzorowanie (right censoring)**, które ma miejsce, gdy pacjent nie doświadczył zdarzenia (np. spadku liczby CD4, rozwoju AIDS lub zgonu) w czasie trwania obserwacji — wiemy, że przeżył co najmniej do momentu zakończenia badania, ale nie wiemy, co stało się później. **Lewostronne cenzorowanie (left censoring)** nie występuje w tym badaniu, ponieważ moment rozpoczęcia obserwacji (czyli włączenie do badania) jest dokładnie znany i żaden pacjent nie miał zdarzenia przed tym momentem. W związku z tym do analizy wystarczy uwzględnić prawostronne cenzorowanie, które jest domyślnie obsługiwane przez modele przeżycia po przekazaniu kolumn `time` i `status`.\n",
    "\n"
   ]
  },
  {
   "cell_type": "markdown",
   "id": "1339f118",
   "metadata": {},
   "source": [
    "KOD 5 - Cenzurowanie interwałowe"
   ]
  },
  {
   "cell_type": "markdown",
   "id": "d9b5cdea",
   "metadata": {},
   "source": [
    "Nie jest konieczne albowiem wiemy dokładnie kiedy zdarzenie miało miejsce (pomimo tego, że w badaniu wizyty odbywały się najczęściej co 12 tygodni to zapis wszystkich wydarzeń jest w dniach, przez co dokładnie wiemy kiedy możliwe zdarzenie 1 miało miejsce)"
   ]
  },
  {
   "cell_type": "markdown",
   "id": "57351861",
   "metadata": {},
   "source": [
    "KOD 6 - "
   ]
  },
  {
   "cell_type": "code",
   "execution_count": 8,
   "id": "28c41d3e",
   "metadata": {},
   "outputs": [
    {
     "name": "stdout",
     "output_type": "stream",
     "text": [
      "   time  trt  age     wtkg  hemo  homo  drugs  karnof  oprior  z30  ...  \\\n",
      "0   948    2   48  89.8128     0     0      0     100       0    0  ...   \n",
      "1  1002    3   61  49.4424     0     0      0      90       0    1  ...   \n",
      "2   961    3   45  88.4520     0     1      1      90       0    1  ...   \n",
      "3  1166    3   47  85.2768     0     1      0     100       0    1  ...   \n",
      "4  1090    0   43  66.6792     0     1      0     100       0    1  ...   \n",
      "\n",
      "   gender  str2  strat  symptom  treat  offtrt  cd40  cd420  cd80  cd820  \n",
      "0       0     0      1        0      1       0   422    477   566    324  \n",
      "1       0     1      3        0      1       0   162    218   392    564  \n",
      "2       1     1      3        0      1       1   326    274  2063   1893  \n",
      "3       1     1      3        0      1       0   287    394  1590    966  \n",
      "4       1     1      3        0      0       0   504    353   870    782  \n",
      "\n",
      "[5 rows x 23 columns]\n"
     ]
    }
   ],
   "source": [
    "print(X.head())"
   ]
  },
  {
   "cell_type": "code",
   "execution_count": 8,
   "id": "79bf5346",
   "metadata": {},
   "outputs": [
    {
     "name": "stdout",
     "output_type": "stream",
     "text": [
      "0    0\n",
      "1    1\n",
      "2    0\n",
      "3    0\n",
      "4    0\n",
      "Name: cid, dtype: int64\n"
     ]
    }
   ],
   "source": [
    "print(y.head())"
   ]
  },
  {
   "cell_type": "code",
   "execution_count": 5,
   "id": "a0510ad2",
   "metadata": {},
   "outputs": [
    {
     "name": "stdout",
     "output_type": "stream",
     "text": [
      "<class 'pandas.core.frame.DataFrame'>\n",
      "RangeIndex: 2139 entries, 0 to 2138\n",
      "Data columns (total 1 columns):\n",
      " #   Column                                                                                                                                    Non-Null Count  Dtype \n",
      "---  ------                                                                                                                                    --------------  ----- \n",
      " 0   time;trt;age;wtkg;hemo;homo;drugs;karnof;oprior;z30;zprior;preanti;race;gender;str2;strat;symptom;treat;offtrt;cd40;cd420;cd80;cd820;cid  2139 non-null   object\n",
      "dtypes: object(1)\n",
      "memory usage: 16.8+ KB\n",
      "None\n"
     ]
    }
   ],
   "source": [
    "# variable information\n",
    "print(data.info())"
   ]
  }
 ],
 "metadata": {
  "kernelspec": {
   "display_name": "Python 3",
   "language": "python",
   "name": "python3"
  },
  "language_info": {
   "codemirror_mode": {
    "name": "ipython",
    "version": 3
   },
   "file_extension": ".py",
   "mimetype": "text/x-python",
   "name": "python",
   "nbconvert_exporter": "python",
   "pygments_lexer": "ipython3",
   "version": "3.13.2"
  }
 },
 "nbformat": 4,
 "nbformat_minor": 5
}
